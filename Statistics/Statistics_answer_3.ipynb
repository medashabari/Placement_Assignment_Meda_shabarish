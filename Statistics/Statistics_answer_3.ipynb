{
 "cells": [
  {
   "cell_type": "markdown",
   "id": "05ed9254",
   "metadata": {},
   "source": [
    "Q-3. Consider the ‘Blood Pressure Before’ and ‘Blood Pressure After’ columns from the\n",
    "data and calculate the following\n",
    "\n",
    "https://drive.google.com/file/d/1mCjtYHiX--mMUjicuaP2gH3k-SnFxt8Y/view?usp=share_\n",
    "    \n",
    "    a. Measure the dispersion in both and interpret the results.\n",
    "    \n",
    "    b. Calculate mean and 5% confidence interval and plot it in a graph\n",
    "    \n",
    "    c. Calculate the Mean absolute deviation and Standard deviation and interpret\n",
    "    the results.\n",
    "    \n",
    "    d. Calculate the correlation coefficient and check the significance of it at 1% level\n",
    "    of significance."
   ]
  },
  {
   "cell_type": "code",
   "execution_count": 2,
   "id": "211e188b",
   "metadata": {},
   "outputs": [],
   "source": [
    "import pandas as pd\n",
    "import matplotlib.pyplot as plt\n",
    "import numpy as np"
   ]
  },
  {
   "cell_type": "code",
   "execution_count": 3,
   "id": "439f8d34",
   "metadata": {},
   "outputs": [],
   "source": [
    "df = pd.read_csv('E:\\DataScience-Main\\Placement_assignment\\dataset\\data.csv')"
   ]
  },
  {
   "cell_type": "code",
   "execution_count": 4,
   "id": "916f9055",
   "metadata": {},
   "outputs": [
    {
     "data": {
      "text/html": [
       "<div>\n",
       "<style scoped>\n",
       "    .dataframe tbody tr th:only-of-type {\n",
       "        vertical-align: middle;\n",
       "    }\n",
       "\n",
       "    .dataframe tbody tr th {\n",
       "        vertical-align: top;\n",
       "    }\n",
       "\n",
       "    .dataframe thead th {\n",
       "        text-align: right;\n",
       "    }\n",
       "</style>\n",
       "<table border=\"1\" class=\"dataframe\">\n",
       "  <thead>\n",
       "    <tr style=\"text-align: right;\">\n",
       "      <th></th>\n",
       "      <th>Patient ID</th>\n",
       "      <th>Blood Pressure Before (mmHg)</th>\n",
       "      <th>Blood Pressure After (mmHg)</th>\n",
       "    </tr>\n",
       "  </thead>\n",
       "  <tbody>\n",
       "    <tr>\n",
       "      <th>0</th>\n",
       "      <td>1</td>\n",
       "      <td>130</td>\n",
       "      <td>120</td>\n",
       "    </tr>\n",
       "    <tr>\n",
       "      <th>1</th>\n",
       "      <td>2</td>\n",
       "      <td>142</td>\n",
       "      <td>135</td>\n",
       "    </tr>\n",
       "    <tr>\n",
       "      <th>2</th>\n",
       "      <td>3</td>\n",
       "      <td>120</td>\n",
       "      <td>118</td>\n",
       "    </tr>\n",
       "    <tr>\n",
       "      <th>3</th>\n",
       "      <td>4</td>\n",
       "      <td>135</td>\n",
       "      <td>127</td>\n",
       "    </tr>\n",
       "    <tr>\n",
       "      <th>4</th>\n",
       "      <td>5</td>\n",
       "      <td>148</td>\n",
       "      <td>140</td>\n",
       "    </tr>\n",
       "  </tbody>\n",
       "</table>\n",
       "</div>"
      ],
      "text/plain": [
       "   Patient ID   Blood Pressure Before (mmHg)   Blood Pressure After (mmHg)\n",
       "0           1                            130                           120\n",
       "1           2                            142                           135\n",
       "2           3                            120                           118\n",
       "3           4                            135                           127\n",
       "4           5                            148                           140"
      ]
     },
     "execution_count": 4,
     "metadata": {},
     "output_type": "execute_result"
    }
   ],
   "source": [
    "df.head()"
   ]
  },
  {
   "cell_type": "markdown",
   "id": "957d518f",
   "metadata": {},
   "source": [
    "### a. Measure the dispersion in both and interpret the results.\n"
   ]
  },
  {
   "cell_type": "code",
   "execution_count": 5,
   "id": "cd50c21c",
   "metadata": {},
   "outputs": [
    {
     "data": {
      "text/plain": [
       "Index(['Patient ID', ' Blood Pressure Before (mmHg)',\n",
       "       ' Blood Pressure After (mmHg)'],\n",
       "      dtype='object')"
      ]
     },
     "execution_count": 5,
     "metadata": {},
     "output_type": "execute_result"
    }
   ],
   "source": [
    "df.columns"
   ]
  },
  {
   "cell_type": "code",
   "execution_count": 7,
   "id": "47c60cb0",
   "metadata": {},
   "outputs": [],
   "source": [
    "mean_bpb = df[' Blood Pressure Before (mmHg)'].mean()\n",
    "std_bpb = df[' Blood Pressure Before (mmHg)'].std()"
   ]
  },
  {
   "cell_type": "code",
   "execution_count": 8,
   "id": "4dca2371",
   "metadata": {},
   "outputs": [
    {
     "data": {
      "text/plain": [
       "(133.91, 6.598278012275075)"
      ]
     },
     "execution_count": 8,
     "metadata": {},
     "output_type": "execute_result"
    }
   ],
   "source": [
    "mean_bpb,std_bpb"
   ]
  },
  {
   "cell_type": "markdown",
   "id": "0f4df3e6",
   "metadata": {},
   "source": [
    "- The mean = 133.91 and std = 6.59 indicates a moderate dispersion of the values.And there is no much scattering of values in blood pressure before"
   ]
  },
  {
   "cell_type": "code",
   "execution_count": 9,
   "id": "4d6890a4",
   "metadata": {},
   "outputs": [],
   "source": [
    "mean_bpa = df[' Blood Pressure After (mmHg)'].mean()\n",
    "std_bpa = df[' Blood Pressure After (mmHg)'].std()\n"
   ]
  },
  {
   "cell_type": "code",
   "execution_count": 10,
   "id": "b112f4ba",
   "metadata": {},
   "outputs": [
    {
     "data": {
      "text/plain": [
       "(128.36, 6.8880221025232276)"
      ]
     },
     "execution_count": 10,
     "metadata": {},
     "output_type": "execute_result"
    }
   ],
   "source": [
    "mean_bpa,std_bpa"
   ]
  },
  {
   "cell_type": "markdown",
   "id": "1fd5067e",
   "metadata": {},
   "source": [
    "- The mean 128.36 and std = 6.88 indicates a moderate dispersion of the values.And there is no much scattering of values in blood pressure after"
   ]
  },
  {
   "cell_type": "code",
   "execution_count": 11,
   "id": "11c05fe5",
   "metadata": {},
   "outputs": [
    {
     "data": {
      "text/plain": [
       "0.26772423291214714"
      ]
     },
     "execution_count": 11,
     "metadata": {},
     "output_type": "execute_result"
    }
   ],
   "source": [
    "df[' Blood Pressure After (mmHg)'].skew()"
   ]
  },
  {
   "cell_type": "markdown",
   "id": "1cfbf80b",
   "metadata": {},
   "source": [
    "### b. Calculate mean and 5% confidence interval and plot it in a graph"
   ]
  },
  {
   "cell_type": "code",
   "execution_count": 13,
   "id": "6ff0df19",
   "metadata": {},
   "outputs": [],
   "source": [
    "## Blood pressure before column\n",
    "\n",
    "mean_bpb = df[' Blood Pressure Before (mmHg)'].mean()\n",
    "std_bpb = df[' Blood Pressure Before (mmHg)'].std()"
   ]
  },
  {
   "cell_type": "markdown",
   "id": "500f21c7",
   "metadata": {},
   "source": [
    "- Assuming two tailed test\n",
    "- From the Z-table at The confidence interval at 95% z-values is `1.96`.\n",
    "- `1.96` is the critical value  at ci 95%"
   ]
  },
  {
   "cell_type": "code",
   "execution_count": 21,
   "id": "3d2a29fd",
   "metadata": {},
   "outputs": [
    {
     "data": {
      "image/png": "[encoded data removed]",
      "text/plain": [
       "<Figure size 576x432 with 1 Axes>"
      ]
     },
     "metadata": {
      "needs_background": "light"
     },
     "output_type": "display_data"
    }
   ],
   "source": [
    "## plotting the graph\n",
    "\n",
    "n=len(df)\n",
    "confidence_interval = 1.96 * (std_bpb*np.sqrt(n))\n",
    "\n",
    "plt.figure(figsize=(8,6))\n",
    "plt.bar(x=df[' Blood Pressure Before (mmHg)'],height=[mean_bpb],yerr=[confidence_interval],capsize=4)\n",
    "plt.title('Mean and 5% Confidence Interval')\n",
    "plt.xlabel('Variable')\n",
    "plt.ylabel('Value')\n",
    "plt.show()"
   ]
  },
  {
   "cell_type": "code",
   "execution_count": 22,
   "id": "9822606a",
   "metadata": {},
   "outputs": [],
   "source": [
    "## Blood pressure after column\n",
    "\n",
    "mean_bpa = df[' Blood Pressure After (mmHg)'].mean()\n",
    "std_bpa = df[' Blood Pressure After (mmHg)'].std()"
   ]
  },
  {
   "cell_type": "markdown",
   "id": "e5a1a4bf",
   "metadata": {},
   "source": [
    "- Assuming two tailed test\n",
    "- From the Z-table at The confidence interval at 95% z-values is `1.96`.\n",
    "- `1.96` is the critical value  at ci 95%"
   ]
  },
  {
   "cell_type": "code",
   "execution_count": 27,
   "id": "148dda3d",
   "metadata": {},
   "outputs": [
    {
     "data": {
      "image/png": "[encoded data removed]",
      "text/plain": [
       "<Figure size 576x432 with 1 Axes>"
      ]
     },
     "metadata": {
      "needs_background": "light"
     },
     "output_type": "display_data"
    }
   ],
   "source": [
    "## plotting the graph\n",
    "\n",
    "n=len(df)\n",
    "confidence_interval = 1.96 * (std_bpa*np.sqrt(n))\n",
    "\n",
    "plt.figure(figsize=(8,6))\n",
    "plt.bar(x=df[' Blood Pressure After (mmHg)'],height=[mean_bpa],yerr=[confidence_interval],capsize=4)\n",
    "plt.title('Mean and 5% Confidence Interval')\n",
    "plt.xlabel('Variable')\n",
    "plt.ylabel('Value')\n",
    "plt.show()"
   ]
  },
  {
   "cell_type": "markdown",
   "id": "36731e6e",
   "metadata": {},
   "source": [
    "### c. Calculate the Mean absolute deviation and Standard deviation and interpret the results."
   ]
  },
  {
   "cell_type": "code",
   "execution_count": 33,
   "id": "535743e4",
   "metadata": {},
   "outputs": [],
   "source": [
    "mean_bpb = df[' Blood Pressure Before (mmHg)'].mean()\n",
    "mad_bpb = np.mean(np.abs(df[' Blood Pressure Before (mmHg)']-mean_bpb))\n",
    "std_bpb = df[' Blood Pressure Before (mmHg)'].std()"
   ]
  },
  {
   "cell_type": "code",
   "execution_count": 37,
   "id": "f16f0a24",
   "metadata": {},
   "outputs": [
    {
     "name": "stdout",
     "output_type": "stream",
     "text": [
      " Mean BPB = 133.91 \n",
      " Mean absolution deviation BPB = 5.7118 \n",
      " Standart Deviation BPB = 6.598278012275075\n"
     ]
    }
   ],
   "source": [
    "print(f\" Mean BPB = {mean_bpb} \\n Mean absolute deviation BPB = {mad_bpb} \\n Standart Deviation BPB = {std_bpb}\")"
   ]
  },
  {
   "cell_type": "markdown",
   "id": "1272eee5",
   "metadata": {},
   "source": [
    "- The mean absolute deviation is less than standard deviation which indicates the values are much closer to mean and data is less spread from mean"
   ]
  },
  {
   "cell_type": "code",
   "execution_count": 38,
   "id": "c28b61e8",
   "metadata": {},
   "outputs": [],
   "source": [
    "## Blood pressure after column\n",
    "\n",
    "mean_bpa = df[' Blood Pressure After (mmHg)'].mean()\n",
    "mad_bpa = np.mean(np.abs(df[' Blood Pressure After (mmHg)']-mean_bpa))\n",
    "std_bpa = df[' Blood Pressure After (mmHg)'].std()"
   ]
  },
  {
   "cell_type": "code",
   "execution_count": 39,
   "id": "c94b4a8a",
   "metadata": {},
   "outputs": [
    {
     "name": "stdout",
     "output_type": "stream",
     "text": [
      " Mean BPA = 128.36 \n",
      " Mean absolute deviation BPA = 5.9 \n",
      " Standart Deviation BPA = 6.8880221025232276\n"
     ]
    }
   ],
   "source": [
    "print(f\" Mean BPA = {mean_bpa} \\n Mean absolute deviation BPA = {mad_bpa} \\n Standart Deviation BPA = {std_bpa}\")"
   ]
  },
  {
   "cell_type": "markdown",
   "id": "aaacb94a",
   "metadata": {},
   "source": [
    "- The mean absolute deviation is less than standard deviation which indicates the values are much closer to mean and data is less spread from mean"
   ]
  },
  {
   "cell_type": "markdown",
   "id": "b6f23c24",
   "metadata": {},
   "source": [
    "### d. Calculate the correlation coefficient and check the significance of it at 1% level of significance"
   ]
  },
  {
   "cell_type": "code",
   "execution_count": 41,
   "id": "40b18445",
   "metadata": {},
   "outputs": [],
   "source": [
    "from scipy.stats import pearsonr\n",
    "\n",
    "x=df[' Blood Pressure Before (mmHg)']\n",
    "y=df[' Blood Pressure After (mmHg)']"
   ]
  },
  {
   "cell_type": "code",
   "execution_count": 42,
   "id": "6e2c58cb",
   "metadata": {},
   "outputs": [],
   "source": [
    "corr_coef,p_value = pearsonr(x,y) # calculate the correlation co-efficient and p_value"
   ]
  },
  {
   "cell_type": "code",
   "execution_count": 43,
   "id": "4eeb77e6",
   "metadata": {},
   "outputs": [
    {
     "name": "stdout",
     "output_type": "stream",
     "text": [
      "Correlation Coefficient: 0.9779485966556027\n",
      "P-value: 1.8097381433033208e-68\n"
     ]
    }
   ],
   "source": [
    "# Print the correlation coefficient and p-value\n",
    "print(\"Correlation Coefficient:\", corr_coef)\n",
    "print(\"P-value:\", p_value)"
   ]
  },
  {
   "cell_type": "code",
   "execution_count": 46,
   "id": "3c1edb91",
   "metadata": {},
   "outputs": [
    {
     "name": "stdout",
     "output_type": "stream",
     "text": [
      "The correlation is significant at the 1% level.\n"
     ]
    }
   ],
   "source": [
    "# Check the significance at the 1% level\n",
    "if p_value < 0.01:\n",
    "    print(\"The correlation is significant at the 1% level.\")\n",
    "else:\n",
    "    print(\"The correlation is not significant at the 1% level.\")\n"
   ]
  }
 ],
 "metadata": {
  "kernelspec": {
   "display_name": "Python 3 (ipykernel)",
   "language": "python",
   "name": "python3"
  },
  "language_info": {
   "codemirror_mode": {
    "name": "ipython",
    "version": 3
   },
   "file_extension": ".py",
   "mimetype": "text/x-python",
   "name": "python",
   "nbconvert_exporter": "python",
   "pygments_lexer": "ipython3",
   "version": "3.9.12"
  }
 },
 "nbformat": 4,
 "nbformat_minor": 5
}
